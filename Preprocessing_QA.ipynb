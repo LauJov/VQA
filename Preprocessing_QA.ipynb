{
 "cells": [
  {
   "cell_type": "code",
   "execution_count": 1,
   "metadata": {},
   "outputs": [],
   "source": [
    "import tensorflow as tf\n",
    "import json\n",
    "import cv2 as cv\n",
    "import numpy as np"
   ]
  },
  {
   "cell_type": "code",
   "execution_count": 2,
   "metadata": {},
   "outputs": [],
   "source": [
    "# Reading data from .json"
   ]
  },
  {
   "cell_type": "code",
   "execution_count": 3,
   "metadata": {},
   "outputs": [],
   "source": [
    "def readNameImages(filename, percent):\n",
    "    \n",
    "    read       = json.loads(open(filename).read())\n",
    "    cant_Train = int(len(read)*percent)\n",
    "    cant_Test  = len(read)-cant_Train\n",
    "    \n",
    "    \n",
    "    qid        = []\n",
    "    image_name = []\n",
    "    question   = []\n",
    "    answer     = [] \n",
    "    \n",
    "    i = 0\n",
    "    for _ in range(cant_Train):\n",
    "        qid.append(read[i]['qid'])\n",
    "        image_name.append(read[i]['image_name'])\n",
    "        question.append(   str(read[i]['question'])    )\n",
    "        answer.append(   str(read[i]['answer'])   )\n",
    "        \n",
    "        i += 1\n",
    "        \n",
    "    qid_Test        = []\n",
    "    image_name_Test = []\n",
    "    question_Test   = []\n",
    "    answer_Test     = [] \n",
    "    \n",
    "    for _ in range(cant_Test):\n",
    "        qid_Test.append(read[i]['qid'])\n",
    "        image_name_Test.append(read[i]['image_name'])\n",
    "        question_Test.append(   str(read[i]['question'])    )\n",
    "        answer_Test.append(   str(read[i]['answer'])   )\n",
    "        \n",
    "        i += 1\n",
    "        \n",
    "    return qid, image_name, question, answer, qid_Test, image_name_Test, question_Test, answer_Test\n",
    "    "
   ]
  },
  {
   "cell_type": "code",
   "execution_count": 4,
   "metadata": {},
   "outputs": [
    {
     "name": "stdout",
     "output_type": "stream",
     "text": [
      "2023\n",
      "225\n"
     ]
    }
   ],
   "source": [
    "percent_Train = 0.9\n",
    "qid, image_name, question, answer, qid_Test, image_name_Test, question_Test, answer_Test = readNameImages('data.json', percent_Train)\n",
    "print (len(question))\n",
    "print (len(question_Test))"
   ]
  },
  {
   "cell_type": "markdown",
   "metadata": {},
   "source": [
    "## Question Answering Module"
   ]
  },
  {
   "cell_type": "code",
   "execution_count": 5,
   "metadata": {},
   "outputs": [],
   "source": [
    "import json \n",
    "import os\n",
    "import collections\n",
    "import tensorflow as tf \n",
    "import re\n",
    "import h5py\n",
    "import argparse\n",
    "import sys \n",
    "import numpy as np \n",
    "import pandas as pd\n",
    "import pickle"
   ]
  },
  {
   "cell_type": "code",
   "execution_count": 6,
   "metadata": {},
   "outputs": [],
   "source": [
    "FLAGS = None\n",
    "BUFFER_TOKENS = ['<NULL>', '<START>', '<END>', '<UNK>']"
   ]
  },
  {
   "cell_type": "code",
   "execution_count": 7,
   "metadata": {},
   "outputs": [],
   "source": [
    "def _parse_sentence(s):\n",
    "    s = s.replace('.', '')\n",
    "    s = s.replace(',', '')\n",
    "    s = s.replace('\"', '')\n",
    "    s = s.replace(\"'\", '')\n",
    "    s = s.replace(\"?\", '')\n",
    "    s = s.lower()\n",
    "    s = re.sub(\"\\s\\s+\", \" \", s)\n",
    "    s = s.split(' ')\n",
    "    return s"
   ]
  },
  {
   "cell_type": "code",
   "execution_count": 8,
   "metadata": {},
   "outputs": [],
   "source": [
    "def getData(qid, image_name, question, answer):\n",
    "    data = {'SerialNo': qid,\n",
    "         'ImageNo': image_name,\n",
    "         'Question': question,\n",
    "         'Answer': answer}\n",
    "    df = pd.DataFrame.from_dict(data)\n",
    "    \n",
    "    return df"
   ]
  },
  {
   "cell_type": "code",
   "execution_count": 9,
   "metadata": {},
   "outputs": [
    {
     "data": {
      "text/html": [
       "<div>\n",
       "<style scoped>\n",
       "    .dataframe tbody tr th:only-of-type {\n",
       "        vertical-align: middle;\n",
       "    }\n",
       "\n",
       "    .dataframe tbody tr th {\n",
       "        vertical-align: top;\n",
       "    }\n",
       "\n",
       "    .dataframe thead th {\n",
       "        text-align: right;\n",
       "    }\n",
       "</style>\n",
       "<table border=\"1\" class=\"dataframe\">\n",
       "  <thead>\n",
       "    <tr style=\"text-align: right;\">\n",
       "      <th></th>\n",
       "      <th>SerialNo</th>\n",
       "      <th>ImageNo</th>\n",
       "      <th>Question</th>\n",
       "      <th>Answer</th>\n",
       "    </tr>\n",
       "  </thead>\n",
       "  <tbody>\n",
       "    <tr>\n",
       "      <th>0</th>\n",
       "      <td>0</td>\n",
       "      <td>synpic54610.jpg</td>\n",
       "      <td>Are regions of the brain infarcted?</td>\n",
       "      <td>Yes</td>\n",
       "    </tr>\n",
       "    <tr>\n",
       "      <th>1</th>\n",
       "      <td>1</td>\n",
       "      <td>synpic29265.jpg</td>\n",
       "      <td>Are the lungs normal appearing?</td>\n",
       "      <td>No</td>\n",
       "    </tr>\n",
       "    <tr>\n",
       "      <th>2</th>\n",
       "      <td>2</td>\n",
       "      <td>synpic29265.jpg</td>\n",
       "      <td>Is there evidence of a pneumothorax</td>\n",
       "      <td>No</td>\n",
       "    </tr>\n",
       "    <tr>\n",
       "      <th>3</th>\n",
       "      <td>3</td>\n",
       "      <td>synpic28602.jpg</td>\n",
       "      <td>What type of imaging does this not represent?</td>\n",
       "      <td>ultrasound</td>\n",
       "    </tr>\n",
       "    <tr>\n",
       "      <th>4</th>\n",
       "      <td>4</td>\n",
       "      <td>synpic29265.jpg</td>\n",
       "      <td>Is this a MRI of the chest?</td>\n",
       "      <td>no</td>\n",
       "    </tr>\n",
       "  </tbody>\n",
       "</table>\n",
       "</div>"
      ],
      "text/plain": [
       "  SerialNo          ImageNo                                       Question  \\\n",
       "0        0  synpic54610.jpg            Are regions of the brain infarcted?   \n",
       "1        1  synpic29265.jpg                Are the lungs normal appearing?   \n",
       "2        2  synpic29265.jpg            Is there evidence of a pneumothorax   \n",
       "3        3  synpic28602.jpg  What type of imaging does this not represent?   \n",
       "4        4  synpic29265.jpg                    Is this a MRI of the chest?   \n",
       "\n",
       "       Answer  \n",
       "0         Yes  \n",
       "1          No  \n",
       "2          No  \n",
       "3  ultrasound  \n",
       "4          no  "
      ]
     },
     "execution_count": 9,
     "metadata": {},
     "output_type": "execute_result"
    }
   ],
   "source": [
    "df_Train = getData(qid, image_name, question, answer)\n",
    "df_Train.head()"
   ]
  },
  {
   "cell_type": "code",
   "execution_count": 10,
   "metadata": {},
   "outputs": [
    {
     "data": {
      "text/html": [
       "<div>\n",
       "<style scoped>\n",
       "    .dataframe tbody tr th:only-of-type {\n",
       "        vertical-align: middle;\n",
       "    }\n",
       "\n",
       "    .dataframe tbody tr th {\n",
       "        vertical-align: top;\n",
       "    }\n",
       "\n",
       "    .dataframe thead th {\n",
       "        text-align: right;\n",
       "    }\n",
       "</style>\n",
       "<table border=\"1\" class=\"dataframe\">\n",
       "  <thead>\n",
       "    <tr style=\"text-align: right;\">\n",
       "      <th></th>\n",
       "      <th>SerialNo</th>\n",
       "      <th>ImageNo</th>\n",
       "      <th>Question</th>\n",
       "      <th>Answer</th>\n",
       "    </tr>\n",
       "  </thead>\n",
       "  <tbody>\n",
       "    <tr>\n",
       "      <th>0</th>\n",
       "      <td>2023</td>\n",
       "      <td>synpic20260.jpg</td>\n",
       "      <td>What is located near the Left kidney</td>\n",
       "      <td>Splenule</td>\n",
       "    </tr>\n",
       "    <tr>\n",
       "      <th>1</th>\n",
       "      <td>2024</td>\n",
       "      <td>synpic18461.jpg</td>\n",
       "      <td>Is the right costophrenic angle sharp?</td>\n",
       "      <td>no</td>\n",
       "    </tr>\n",
       "    <tr>\n",
       "      <th>2</th>\n",
       "      <td>2025</td>\n",
       "      <td>synpic18461.jpg</td>\n",
       "      <td>Is the right costophrenic angle easily visuali...</td>\n",
       "      <td>no</td>\n",
       "    </tr>\n",
       "    <tr>\n",
       "      <th>3</th>\n",
       "      <td>2026</td>\n",
       "      <td>synpic55948.jpg</td>\n",
       "      <td>Are the ventricles symmetrical?</td>\n",
       "      <td>No</td>\n",
       "    </tr>\n",
       "    <tr>\n",
       "      <th>4</th>\n",
       "      <td>2027</td>\n",
       "      <td>synpic55948.jpg</td>\n",
       "      <td>Are the ventricles the same size?</td>\n",
       "      <td>No</td>\n",
       "    </tr>\n",
       "    <tr>\n",
       "      <th>5</th>\n",
       "      <td>2028</td>\n",
       "      <td>synpic34836.jpg</td>\n",
       "      <td>What does the brighter outer ring of the lesio...</td>\n",
       "      <td>necrosis</td>\n",
       "    </tr>\n",
       "    <tr>\n",
       "      <th>6</th>\n",
       "      <td>2029</td>\n",
       "      <td>synpic34836.jpg</td>\n",
       "      <td>What is indicated by the bright ring around th...</td>\n",
       "      <td>necrosis</td>\n",
       "    </tr>\n",
       "    <tr>\n",
       "      <th>7</th>\n",
       "      <td>2030</td>\n",
       "      <td>synpic27601.jpg</td>\n",
       "      <td>Where in relation to the mass is the left kidn...</td>\n",
       "      <td>posteriorly</td>\n",
       "    </tr>\n",
       "    <tr>\n",
       "      <th>8</th>\n",
       "      <td>2031</td>\n",
       "      <td>synpic27601.jpg</td>\n",
       "      <td>Where is the mass located in relation to the l...</td>\n",
       "      <td>posteriorly</td>\n",
       "    </tr>\n",
       "    <tr>\n",
       "      <th>9</th>\n",
       "      <td>2032</td>\n",
       "      <td>synpic19782.jpg</td>\n",
       "      <td>On which side is air under the diaphragm?</td>\n",
       "      <td>Right</td>\n",
       "    </tr>\n",
       "  </tbody>\n",
       "</table>\n",
       "</div>"
      ],
      "text/plain": [
       "   SerialNo          ImageNo  \\\n",
       "0      2023  synpic20260.jpg   \n",
       "1      2024  synpic18461.jpg   \n",
       "2      2025  synpic18461.jpg   \n",
       "3      2026  synpic55948.jpg   \n",
       "4      2027  synpic55948.jpg   \n",
       "5      2028  synpic34836.jpg   \n",
       "6      2029  synpic34836.jpg   \n",
       "7      2030  synpic27601.jpg   \n",
       "8      2031  synpic27601.jpg   \n",
       "9      2032  synpic19782.jpg   \n",
       "\n",
       "                                            Question       Answer  \n",
       "0               What is located near the Left kidney     Splenule  \n",
       "1             Is the right costophrenic angle sharp?           no  \n",
       "2  Is the right costophrenic angle easily visuali...           no  \n",
       "3                    Are the ventricles symmetrical?           No  \n",
       "4                  Are the ventricles the same size?           No  \n",
       "5  What does the brighter outer ring of the lesio...     necrosis  \n",
       "6  What is indicated by the bright ring around th...     necrosis  \n",
       "7  Where in relation to the mass is the left kidn...  posteriorly  \n",
       "8  Where is the mass located in relation to the l...  posteriorly  \n",
       "9          On which side is air under the diaphragm?        Right  "
      ]
     },
     "execution_count": 10,
     "metadata": {},
     "output_type": "execute_result"
    }
   ],
   "source": [
    "df_Test = getData(qid_Test, image_name_Test, question_Test, answer_Test)\n",
    "df_Test[0:10]"
   ]
  },
  {
   "cell_type": "code",
   "execution_count": 150,
   "metadata": {},
   "outputs": [
    {
     "name": "stderr",
     "output_type": "stream",
     "text": [
      "/usr/local/lib/python3.6/dist-packages/ipykernel_launcher.py:9: SettingWithCopyWarning: \n",
      "A value is trying to be set on a copy of a slice from a DataFrame.\n",
      "Try using .loc[row_indexer,col_indexer] = value instead\n",
      "\n",
      "See the caveats in the documentation: http://pandas.pydata.org/pandas-docs/stable/indexing.html#indexing-view-versus-copy\n",
      "  if __name__ == '__main__':\n",
      "/usr/local/lib/python3.6/dist-packages/ipykernel_launcher.py:10: SettingWithCopyWarning: \n",
      "A value is trying to be set on a copy of a slice from a DataFrame.\n",
      "Try using .loc[row_indexer,col_indexer] = value instead\n",
      "\n",
      "See the caveats in the documentation: http://pandas.pydata.org/pandas-docs/stable/indexing.html#indexing-view-versus-copy\n",
      "  # Remove the CWD from sys.path while we load stuff.\n"
     ]
    }
   ],
   "source": [
    "def _create_init_dic(df):\n",
    "   \n",
    "    bool_mat = []\n",
    "    \n",
    "    for i in range(0,len(df)):\n",
    "        bool_mat.append(df['Question'].iloc[i][len(df['Question'].iloc[i])-1]=='?')\n",
    "        \n",
    "    df = df[bool_mat]\n",
    "    df['Q_parsed'] = [ _parse_sentence(s) for s in df['Question']]\n",
    "    df['A_parsed'] = [ _parse_sentence(s) for s in df['Answer']]\n",
    "    \n",
    "    return df\n",
    "\n",
    "\n",
    "#Training Dataset\n",
    "dic_df=_create_init_dic(df_Train)\n",
    "\n",
    "#Test Dataset\n",
    "dic_v_df=_create_init_dic(df_Test)\n"
   ]
  },
  {
   "cell_type": "code",
   "execution_count": 151,
   "metadata": {},
   "outputs": [
    {
     "name": "stdout",
     "output_type": "stream",
     "text": [
      "1952\n"
     ]
    },
    {
     "data": {
      "text/html": [
       "<div>\n",
       "<style scoped>\n",
       "    .dataframe tbody tr th:only-of-type {\n",
       "        vertical-align: middle;\n",
       "    }\n",
       "\n",
       "    .dataframe tbody tr th {\n",
       "        vertical-align: top;\n",
       "    }\n",
       "\n",
       "    .dataframe thead th {\n",
       "        text-align: right;\n",
       "    }\n",
       "</style>\n",
       "<table border=\"1\" class=\"dataframe\">\n",
       "  <thead>\n",
       "    <tr style=\"text-align: right;\">\n",
       "      <th></th>\n",
       "      <th>SerialNo</th>\n",
       "      <th>ImageNo</th>\n",
       "      <th>Question</th>\n",
       "      <th>Answer</th>\n",
       "      <th>Q_parsed</th>\n",
       "      <th>A_parsed</th>\n",
       "    </tr>\n",
       "  </thead>\n",
       "  <tbody>\n",
       "    <tr>\n",
       "      <th>0</th>\n",
       "      <td>0</td>\n",
       "      <td>synpic54610.jpg</td>\n",
       "      <td>Are regions of the brain infarcted?</td>\n",
       "      <td>Yes</td>\n",
       "      <td>[are, regions, of, the, brain, infarcted]</td>\n",
       "      <td>[yes]</td>\n",
       "    </tr>\n",
       "    <tr>\n",
       "      <th>1</th>\n",
       "      <td>1</td>\n",
       "      <td>synpic29265.jpg</td>\n",
       "      <td>Are the lungs normal appearing?</td>\n",
       "      <td>No</td>\n",
       "      <td>[are, the, lungs, normal, appearing]</td>\n",
       "      <td>[no]</td>\n",
       "    </tr>\n",
       "    <tr>\n",
       "      <th>3</th>\n",
       "      <td>3</td>\n",
       "      <td>synpic28602.jpg</td>\n",
       "      <td>What type of imaging does this not represent?</td>\n",
       "      <td>ultrasound</td>\n",
       "      <td>[what, type, of, imaging, does, this, not, rep...</td>\n",
       "      <td>[ultrasound]</td>\n",
       "    </tr>\n",
       "    <tr>\n",
       "      <th>4</th>\n",
       "      <td>4</td>\n",
       "      <td>synpic29265.jpg</td>\n",
       "      <td>Is this a MRI of the chest?</td>\n",
       "      <td>no</td>\n",
       "      <td>[is, this, a, mri, of, the, chest]</td>\n",
       "      <td>[no]</td>\n",
       "    </tr>\n",
       "    <tr>\n",
       "      <th>5</th>\n",
       "      <td>5</td>\n",
       "      <td>synpic28602.jpg</td>\n",
       "      <td>What is not pictured in this image?</td>\n",
       "      <td>The extremities</td>\n",
       "      <td>[what, is, not, pictured, in, this, image]</td>\n",
       "      <td>[the, extremities]</td>\n",
       "    </tr>\n",
       "  </tbody>\n",
       "</table>\n",
       "</div>"
      ],
      "text/plain": [
       "  SerialNo          ImageNo                                       Question  \\\n",
       "0        0  synpic54610.jpg            Are regions of the brain infarcted?   \n",
       "1        1  synpic29265.jpg                Are the lungs normal appearing?   \n",
       "3        3  synpic28602.jpg  What type of imaging does this not represent?   \n",
       "4        4  synpic29265.jpg                    Is this a MRI of the chest?   \n",
       "5        5  synpic28602.jpg            What is not pictured in this image?   \n",
       "\n",
       "            Answer                                           Q_parsed  \\\n",
       "0              Yes          [are, regions, of, the, brain, infarcted]   \n",
       "1               No               [are, the, lungs, normal, appearing]   \n",
       "3       ultrasound  [what, type, of, imaging, does, this, not, rep...   \n",
       "4               no                 [is, this, a, mri, of, the, chest]   \n",
       "5  The extremities         [what, is, not, pictured, in, this, image]   \n",
       "\n",
       "             A_parsed  \n",
       "0               [yes]  \n",
       "1                [no]  \n",
       "3        [ultrasound]  \n",
       "4                [no]  \n",
       "5  [the, extremities]  "
      ]
     },
     "execution_count": 151,
     "metadata": {},
     "output_type": "execute_result"
    }
   ],
   "source": [
    "print(len(dic_df))\n",
    "dic_df.head()"
   ]
  },
  {
   "cell_type": "code",
   "execution_count": 152,
   "metadata": {},
   "outputs": [
    {
     "name": "stdout",
     "output_type": "stream",
     "text": [
      "213\n"
     ]
    },
    {
     "data": {
      "text/html": [
       "<div>\n",
       "<style scoped>\n",
       "    .dataframe tbody tr th:only-of-type {\n",
       "        vertical-align: middle;\n",
       "    }\n",
       "\n",
       "    .dataframe tbody tr th {\n",
       "        vertical-align: top;\n",
       "    }\n",
       "\n",
       "    .dataframe thead th {\n",
       "        text-align: right;\n",
       "    }\n",
       "</style>\n",
       "<table border=\"1\" class=\"dataframe\">\n",
       "  <thead>\n",
       "    <tr style=\"text-align: right;\">\n",
       "      <th></th>\n",
       "      <th>SerialNo</th>\n",
       "      <th>ImageNo</th>\n",
       "      <th>Question</th>\n",
       "      <th>Answer</th>\n",
       "      <th>Q_parsed</th>\n",
       "      <th>A_parsed</th>\n",
       "    </tr>\n",
       "  </thead>\n",
       "  <tbody>\n",
       "    <tr>\n",
       "      <th>1</th>\n",
       "      <td>2024</td>\n",
       "      <td>synpic18461.jpg</td>\n",
       "      <td>Is the right costophrenic angle sharp?</td>\n",
       "      <td>no</td>\n",
       "      <td>[is, the, right, costophrenic, angle, sharp]</td>\n",
       "      <td>[no]</td>\n",
       "    </tr>\n",
       "    <tr>\n",
       "      <th>2</th>\n",
       "      <td>2025</td>\n",
       "      <td>synpic18461.jpg</td>\n",
       "      <td>Is the right costophrenic angle easily visuali...</td>\n",
       "      <td>no</td>\n",
       "      <td>[is, the, right, costophrenic, angle, easily, ...</td>\n",
       "      <td>[no]</td>\n",
       "    </tr>\n",
       "    <tr>\n",
       "      <th>3</th>\n",
       "      <td>2026</td>\n",
       "      <td>synpic55948.jpg</td>\n",
       "      <td>Are the ventricles symmetrical?</td>\n",
       "      <td>No</td>\n",
       "      <td>[are, the, ventricles, symmetrical]</td>\n",
       "      <td>[no]</td>\n",
       "    </tr>\n",
       "    <tr>\n",
       "      <th>4</th>\n",
       "      <td>2027</td>\n",
       "      <td>synpic55948.jpg</td>\n",
       "      <td>Are the ventricles the same size?</td>\n",
       "      <td>No</td>\n",
       "      <td>[are, the, ventricles, the, same, size]</td>\n",
       "      <td>[no]</td>\n",
       "    </tr>\n",
       "    <tr>\n",
       "      <th>5</th>\n",
       "      <td>2028</td>\n",
       "      <td>synpic34836.jpg</td>\n",
       "      <td>What does the brighter outer ring of the lesio...</td>\n",
       "      <td>necrosis</td>\n",
       "      <td>[what, does, the, brighter, outer, ring, of, t...</td>\n",
       "      <td>[necrosis]</td>\n",
       "    </tr>\n",
       "  </tbody>\n",
       "</table>\n",
       "</div>"
      ],
      "text/plain": [
       "   SerialNo          ImageNo  \\\n",
       "1      2024  synpic18461.jpg   \n",
       "2      2025  synpic18461.jpg   \n",
       "3      2026  synpic55948.jpg   \n",
       "4      2027  synpic55948.jpg   \n",
       "5      2028  synpic34836.jpg   \n",
       "\n",
       "                                            Question    Answer  \\\n",
       "1             Is the right costophrenic angle sharp?        no   \n",
       "2  Is the right costophrenic angle easily visuali...        no   \n",
       "3                    Are the ventricles symmetrical?        No   \n",
       "4                  Are the ventricles the same size?        No   \n",
       "5  What does the brighter outer ring of the lesio...  necrosis   \n",
       "\n",
       "                                            Q_parsed    A_parsed  \n",
       "1       [is, the, right, costophrenic, angle, sharp]        [no]  \n",
       "2  [is, the, right, costophrenic, angle, easily, ...        [no]  \n",
       "3                [are, the, ventricles, symmetrical]        [no]  \n",
       "4            [are, the, ventricles, the, same, size]        [no]  \n",
       "5  [what, does, the, brighter, outer, ring, of, t...  [necrosis]  "
      ]
     },
     "execution_count": 152,
     "metadata": {},
     "output_type": "execute_result"
    }
   ],
   "source": [
    "print(len(dic_v_df))\n",
    "dic_v_df.head()"
   ]
  },
  {
   "cell_type": "code",
   "execution_count": 153,
   "metadata": {},
   "outputs": [],
   "source": [
    "list_of_all_words = []\n",
    "for i in range(0,len(dic_df)):\n",
    "    list_of_all_words = list_of_all_words + dic_df['A_parsed'].iloc[i]+dic_df['Q_parsed'].iloc[i]"
   ]
  },
  {
   "cell_type": "code",
   "execution_count": 154,
   "metadata": {},
   "outputs": [],
   "source": [
    "counter = collections.Counter(list_of_all_words)\n",
    "TOTAL_VOCAB =len(counter)\n",
    "vocab = counter.most_common(TOTAL_VOCAB)"
   ]
  },
  {
   "cell_type": "code",
   "execution_count": 155,
   "metadata": {},
   "outputs": [],
   "source": [
    "## create word_to_idx, and idx_to_word\n",
    "vocab = [i[0] for i in vocab]\n",
    "word_to_idx = {}\n",
    "idx_to_word = {}\n",
    "\n",
    "# add in BUFFER_TOKENS\n",
    "for i in range(len(BUFFER_TOKENS)):\n",
    "    idx_to_word[int(i)] = BUFFER_TOKENS[i]\n",
    "    word_to_idx[BUFFER_TOKENS[i]] = i\n",
    "\n",
    "for i in range(len(vocab)):\n",
    "    word_to_idx[vocab[i]] = i + len(BUFFER_TOKENS)\n",
    "    idx_to_word[int(i + len(BUFFER_TOKENS))] = vocab[i]"
   ]
  },
  {
   "cell_type": "code",
   "execution_count": 156,
   "metadata": {},
   "outputs": [],
   "source": [
    "pickle.dump(word_to_idx, open('word_to_idx.pkl', 'wb') )\n",
    "pickle.dump(idx_to_word, open('idx_to_word.pkl', 'wb') )"
   ]
  },
  {
   "cell_type": "code",
   "execution_count": 157,
   "metadata": {},
   "outputs": [],
   "source": [
    "PADDING_LEN = 17\n",
    "\n",
    "def _convert_sentence_to_numbers(s):\n",
    "    \"\"\"Convert a sentence s (a list of words) to list of numbers using word_to_idx\"\"\"\n",
    "    UNK_IDX = BUFFER_TOKENS.index('<UNK>')\n",
    "    NULL_IDX = BUFFER_TOKENS.index('<NULL>')\n",
    "    END_IDX = BUFFER_TOKENS.index('<END>')\n",
    "    STR_IDX = BUFFER_TOKENS.index('<START>')\n",
    "    s_encoded = [word_to_idx.get(w, UNK_IDX) for w in s]\n",
    "    s_encoded = [STR_IDX] + s_encoded\n",
    "    s_encoded += [END_IDX]\n",
    "    s_encoded += [NULL_IDX] * (PADDING_LEN - 1 - len(s_encoded))\n",
    "    return s_encoded"
   ]
  },
  {
   "cell_type": "code",
   "execution_count": 158,
   "metadata": {},
   "outputs": [
    {
     "name": "stderr",
     "output_type": "stream",
     "text": [
      "/usr/local/lib/python3.6/dist-packages/ipykernel_launcher.py:5: SettingWithCopyWarning: \n",
      "A value is trying to be set on a copy of a slice from a DataFrame.\n",
      "Try using .loc[row_indexer,col_indexer] = value instead\n",
      "\n",
      "See the caveats in the documentation: http://pandas.pydata.org/pandas-docs/stable/indexing.html#indexing-view-versus-copy\n",
      "  \"\"\"\n"
     ]
    }
   ],
   "source": [
    "df_final = dic_df\n",
    "all_answers = [_convert_sentence_to_numbers(s) for s in np.array(df_final['A_parsed'])] # list of numbers \n",
    "valid_rows1 = [i for i in range(len(all_answers)) if len(all_answers[i]) == PADDING_LEN-1]\n",
    "df_final = df_final.iloc[valid_rows1,:]\n",
    "df_final['A_Encoded']=[row for row in all_answers if len(row) == PADDING_LEN-1]\n",
    "all_questions = [_convert_sentence_to_numbers(s) for s in np.array(df_final['Q_parsed'])] \n",
    "valid_rows2 = [i for i in range(len(all_questions)) if len(all_questions[i]) == PADDING_LEN-1]\n",
    "df_final=df_final.iloc[valid_rows2,:]\n",
    "df_final['Q_Encoded']=[row for row in all_questions if len(row) == PADDING_LEN-1]"
   ]
  },
  {
   "cell_type": "code",
   "execution_count": 159,
   "metadata": {},
   "outputs": [
    {
     "data": {
      "text/html": [
       "<div>\n",
       "<style scoped>\n",
       "    .dataframe tbody tr th:only-of-type {\n",
       "        vertical-align: middle;\n",
       "    }\n",
       "\n",
       "    .dataframe tbody tr th {\n",
       "        vertical-align: top;\n",
       "    }\n",
       "\n",
       "    .dataframe thead th {\n",
       "        text-align: right;\n",
       "    }\n",
       "</style>\n",
       "<table border=\"1\" class=\"dataframe\">\n",
       "  <thead>\n",
       "    <tr style=\"text-align: right;\">\n",
       "      <th></th>\n",
       "      <th>SerialNo</th>\n",
       "      <th>ImageNo</th>\n",
       "      <th>Question</th>\n",
       "      <th>Answer</th>\n",
       "      <th>Q_parsed</th>\n",
       "      <th>A_parsed</th>\n",
       "      <th>A_Encoded</th>\n",
       "      <th>Q_Encoded</th>\n",
       "    </tr>\n",
       "  </thead>\n",
       "  <tbody>\n",
       "    <tr>\n",
       "      <th>0</th>\n",
       "      <td>0</td>\n",
       "      <td>synpic54610.jpg</td>\n",
       "      <td>Are regions of the brain infarcted?</td>\n",
       "      <td>Yes</td>\n",
       "      <td>[are, regions, of, the, brain, infarcted]</td>\n",
       "      <td>[yes]</td>\n",
       "      <td>[1, 7, 2, 0, 0, 0, 0, 0, 0, 0, 0, 0, 0, 0, 0, 0]</td>\n",
       "      <td>[1, 14, 802, 11, 4, 29, 468, 2, 0, 0, 0, 0, 0,...</td>\n",
       "    </tr>\n",
       "    <tr>\n",
       "      <th>1</th>\n",
       "      <td>1</td>\n",
       "      <td>synpic29265.jpg</td>\n",
       "      <td>Are the lungs normal appearing?</td>\n",
       "      <td>No</td>\n",
       "      <td>[are, the, lungs, normal, appearing]</td>\n",
       "      <td>[no]</td>\n",
       "      <td>[1, 6, 2, 0, 0, 0, 0, 0, 0, 0, 0, 0, 0, 0, 0, 0]</td>\n",
       "      <td>[1, 14, 4, 86, 24, 569, 2, 0, 0, 0, 0, 0, 0, 0...</td>\n",
       "    </tr>\n",
       "    <tr>\n",
       "      <th>3</th>\n",
       "      <td>3</td>\n",
       "      <td>synpic28602.jpg</td>\n",
       "      <td>What type of imaging does this not represent?</td>\n",
       "      <td>ultrasound</td>\n",
       "      <td>[what, type, of, imaging, does, this, not, rep...</td>\n",
       "      <td>[ultrasound]</td>\n",
       "      <td>[1, 803, 2, 0, 0, 0, 0, 0, 0, 0, 0, 0, 0, 0, 0...</td>\n",
       "      <td>[1, 10, 64, 11, 70, 28, 8, 231, 199, 2, 0, 0, ...</td>\n",
       "    </tr>\n",
       "    <tr>\n",
       "      <th>4</th>\n",
       "      <td>4</td>\n",
       "      <td>synpic29265.jpg</td>\n",
       "      <td>Is this a MRI of the chest?</td>\n",
       "      <td>no</td>\n",
       "      <td>[is, this, a, mri, of, the, chest]</td>\n",
       "      <td>[no]</td>\n",
       "      <td>[1, 6, 2, 0, 0, 0, 0, 0, 0, 0, 0, 0, 0, 0, 0, 0]</td>\n",
       "      <td>[1, 5, 8, 15, 45, 11, 4, 72, 2, 0, 0, 0, 0, 0,...</td>\n",
       "    </tr>\n",
       "    <tr>\n",
       "      <th>5</th>\n",
       "      <td>5</td>\n",
       "      <td>synpic28602.jpg</td>\n",
       "      <td>What is not pictured in this image?</td>\n",
       "      <td>The extremities</td>\n",
       "      <td>[what, is, not, pictured, in, this, image]</td>\n",
       "      <td>[the, extremities]</td>\n",
       "      <td>[1, 4, 804, 2, 0, 0, 0, 0, 0, 0, 0, 0, 0, 0, 0...</td>\n",
       "      <td>[1, 10, 5, 231, 469, 9, 8, 13, 2, 0, 0, 0, 0, ...</td>\n",
       "    </tr>\n",
       "  </tbody>\n",
       "</table>\n",
       "</div>"
      ],
      "text/plain": [
       "  SerialNo          ImageNo                                       Question  \\\n",
       "0        0  synpic54610.jpg            Are regions of the brain infarcted?   \n",
       "1        1  synpic29265.jpg                Are the lungs normal appearing?   \n",
       "3        3  synpic28602.jpg  What type of imaging does this not represent?   \n",
       "4        4  synpic29265.jpg                    Is this a MRI of the chest?   \n",
       "5        5  synpic28602.jpg            What is not pictured in this image?   \n",
       "\n",
       "            Answer                                           Q_parsed  \\\n",
       "0              Yes          [are, regions, of, the, brain, infarcted]   \n",
       "1               No               [are, the, lungs, normal, appearing]   \n",
       "3       ultrasound  [what, type, of, imaging, does, this, not, rep...   \n",
       "4               no                 [is, this, a, mri, of, the, chest]   \n",
       "5  The extremities         [what, is, not, pictured, in, this, image]   \n",
       "\n",
       "             A_parsed                                          A_Encoded  \\\n",
       "0               [yes]   [1, 7, 2, 0, 0, 0, 0, 0, 0, 0, 0, 0, 0, 0, 0, 0]   \n",
       "1                [no]   [1, 6, 2, 0, 0, 0, 0, 0, 0, 0, 0, 0, 0, 0, 0, 0]   \n",
       "3        [ultrasound]  [1, 803, 2, 0, 0, 0, 0, 0, 0, 0, 0, 0, 0, 0, 0...   \n",
       "4                [no]   [1, 6, 2, 0, 0, 0, 0, 0, 0, 0, 0, 0, 0, 0, 0, 0]   \n",
       "5  [the, extremities]  [1, 4, 804, 2, 0, 0, 0, 0, 0, 0, 0, 0, 0, 0, 0...   \n",
       "\n",
       "                                           Q_Encoded  \n",
       "0  [1, 14, 802, 11, 4, 29, 468, 2, 0, 0, 0, 0, 0,...  \n",
       "1  [1, 14, 4, 86, 24, 569, 2, 0, 0, 0, 0, 0, 0, 0...  \n",
       "3  [1, 10, 64, 11, 70, 28, 8, 231, 199, 2, 0, 0, ...  \n",
       "4  [1, 5, 8, 15, 45, 11, 4, 72, 2, 0, 0, 0, 0, 0,...  \n",
       "5  [1, 10, 5, 231, 469, 9, 8, 13, 2, 0, 0, 0, 0, ...  "
      ]
     },
     "execution_count": 159,
     "metadata": {},
     "output_type": "execute_result"
    }
   ],
   "source": [
    "df_final.head()"
   ]
  },
  {
   "cell_type": "code",
   "execution_count": 160,
   "metadata": {},
   "outputs": [],
   "source": [
    "df_v_final=dic_v_df\n",
    "all_answers = [_convert_sentence_to_numbers(s) for s in np.array(df_v_final['A_parsed'])] # list of numbers \n",
    "valid_rows3 = [i for i in range(len(all_answers)) if len(all_answers[i]) == PADDING_LEN-1]\n",
    "df_v_final=df_v_final.iloc[valid_rows3,:]\n",
    "df_v_final['A_Encoded']=[row for row in all_answers if len(row) == PADDING_LEN-1]\n",
    "all_questions = [_convert_sentence_to_numbers(s) for s in np.array(df_v_final['Q_parsed'])] \n",
    "valid_rows4 = [i for i in range(len(all_questions)) if len(all_questions[i]) == PADDING_LEN-1]\n",
    "df_v_final=df_v_final.iloc[valid_rows4,:]\n",
    "df_v_final['Q_Encoded']=[row for row in all_questions if len(row) == PADDING_LEN-1]"
   ]
  },
  {
   "cell_type": "code",
   "execution_count": 161,
   "metadata": {},
   "outputs": [
    {
     "data": {
      "text/html": [
       "<div>\n",
       "<style scoped>\n",
       "    .dataframe tbody tr th:only-of-type {\n",
       "        vertical-align: middle;\n",
       "    }\n",
       "\n",
       "    .dataframe tbody tr th {\n",
       "        vertical-align: top;\n",
       "    }\n",
       "\n",
       "    .dataframe thead th {\n",
       "        text-align: right;\n",
       "    }\n",
       "</style>\n",
       "<table border=\"1\" class=\"dataframe\">\n",
       "  <thead>\n",
       "    <tr style=\"text-align: right;\">\n",
       "      <th></th>\n",
       "      <th>SerialNo</th>\n",
       "      <th>ImageNo</th>\n",
       "      <th>Question</th>\n",
       "      <th>Answer</th>\n",
       "      <th>Q_parsed</th>\n",
       "      <th>A_parsed</th>\n",
       "      <th>A_Encoded</th>\n",
       "      <th>Q_Encoded</th>\n",
       "    </tr>\n",
       "  </thead>\n",
       "  <tbody>\n",
       "    <tr>\n",
       "      <th>1</th>\n",
       "      <td>2024</td>\n",
       "      <td>synpic18461.jpg</td>\n",
       "      <td>Is the right costophrenic angle sharp?</td>\n",
       "      <td>no</td>\n",
       "      <td>[is, the, right, costophrenic, angle, sharp]</td>\n",
       "      <td>[no]</td>\n",
       "      <td>[1, 6, 2, 0, 0, 0, 0, 0, 0, 0, 0, 0, 0, 0, 0, 0]</td>\n",
       "      <td>[1, 5, 4, 16, 154, 242, 862, 2, 0, 0, 0, 0, 0,...</td>\n",
       "    </tr>\n",
       "    <tr>\n",
       "      <th>2</th>\n",
       "      <td>2025</td>\n",
       "      <td>synpic18461.jpg</td>\n",
       "      <td>Is the right costophrenic angle easily visuali...</td>\n",
       "      <td>no</td>\n",
       "      <td>[is, the, right, costophrenic, angle, easily, ...</td>\n",
       "      <td>[no]</td>\n",
       "      <td>[1, 6, 2, 0, 0, 0, 0, 0, 0, 0, 0, 0, 0, 0, 0, 0]</td>\n",
       "      <td>[1, 5, 4, 16, 154, 242, 3, 75, 2, 0, 0, 0, 0, ...</td>\n",
       "    </tr>\n",
       "    <tr>\n",
       "      <th>3</th>\n",
       "      <td>2026</td>\n",
       "      <td>synpic55948.jpg</td>\n",
       "      <td>Are the ventricles symmetrical?</td>\n",
       "      <td>No</td>\n",
       "      <td>[are, the, ventricles, symmetrical]</td>\n",
       "      <td>[no]</td>\n",
       "      <td>[1, 6, 2, 0, 0, 0, 0, 0, 0, 0, 0, 0, 0, 0, 0, 0]</td>\n",
       "      <td>[1, 14, 4, 79, 857, 2, 0, 0, 0, 0, 0, 0, 0, 0,...</td>\n",
       "    </tr>\n",
       "    <tr>\n",
       "      <th>4</th>\n",
       "      <td>2027</td>\n",
       "      <td>synpic55948.jpg</td>\n",
       "      <td>Are the ventricles the same size?</td>\n",
       "      <td>No</td>\n",
       "      <td>[are, the, ventricles, the, same, size]</td>\n",
       "      <td>[no]</td>\n",
       "      <td>[1, 6, 2, 0, 0, 0, 0, 0, 0, 0, 0, 0, 0, 0, 0, 0]</td>\n",
       "      <td>[1, 14, 4, 79, 4, 967, 67, 2, 0, 0, 0, 0, 0, 0...</td>\n",
       "    </tr>\n",
       "    <tr>\n",
       "      <th>5</th>\n",
       "      <td>2028</td>\n",
       "      <td>synpic34836.jpg</td>\n",
       "      <td>What does the brighter outer ring of the lesio...</td>\n",
       "      <td>necrosis</td>\n",
       "      <td>[what, does, the, brighter, outer, ring, of, t...</td>\n",
       "      <td>[necrosis]</td>\n",
       "      <td>[1, 3, 2, 0, 0, 0, 0, 0, 0, 0, 0, 0, 0, 0, 0, 0]</td>\n",
       "      <td>[1, 10, 28, 4, 3, 1149, 167, 11, 4, 20, 199, 2...</td>\n",
       "    </tr>\n",
       "  </tbody>\n",
       "</table>\n",
       "</div>"
      ],
      "text/plain": [
       "   SerialNo          ImageNo  \\\n",
       "1      2024  synpic18461.jpg   \n",
       "2      2025  synpic18461.jpg   \n",
       "3      2026  synpic55948.jpg   \n",
       "4      2027  synpic55948.jpg   \n",
       "5      2028  synpic34836.jpg   \n",
       "\n",
       "                                            Question    Answer  \\\n",
       "1             Is the right costophrenic angle sharp?        no   \n",
       "2  Is the right costophrenic angle easily visuali...        no   \n",
       "3                    Are the ventricles symmetrical?        No   \n",
       "4                  Are the ventricles the same size?        No   \n",
       "5  What does the brighter outer ring of the lesio...  necrosis   \n",
       "\n",
       "                                            Q_parsed    A_parsed  \\\n",
       "1       [is, the, right, costophrenic, angle, sharp]        [no]   \n",
       "2  [is, the, right, costophrenic, angle, easily, ...        [no]   \n",
       "3                [are, the, ventricles, symmetrical]        [no]   \n",
       "4            [are, the, ventricles, the, same, size]        [no]   \n",
       "5  [what, does, the, brighter, outer, ring, of, t...  [necrosis]   \n",
       "\n",
       "                                          A_Encoded  \\\n",
       "1  [1, 6, 2, 0, 0, 0, 0, 0, 0, 0, 0, 0, 0, 0, 0, 0]   \n",
       "2  [1, 6, 2, 0, 0, 0, 0, 0, 0, 0, 0, 0, 0, 0, 0, 0]   \n",
       "3  [1, 6, 2, 0, 0, 0, 0, 0, 0, 0, 0, 0, 0, 0, 0, 0]   \n",
       "4  [1, 6, 2, 0, 0, 0, 0, 0, 0, 0, 0, 0, 0, 0, 0, 0]   \n",
       "5  [1, 3, 2, 0, 0, 0, 0, 0, 0, 0, 0, 0, 0, 0, 0, 0]   \n",
       "\n",
       "                                           Q_Encoded  \n",
       "1  [1, 5, 4, 16, 154, 242, 862, 2, 0, 0, 0, 0, 0,...  \n",
       "2  [1, 5, 4, 16, 154, 242, 3, 75, 2, 0, 0, 0, 0, ...  \n",
       "3  [1, 14, 4, 79, 857, 2, 0, 0, 0, 0, 0, 0, 0, 0,...  \n",
       "4  [1, 14, 4, 79, 4, 967, 67, 2, 0, 0, 0, 0, 0, 0...  \n",
       "5  [1, 10, 28, 4, 3, 1149, 167, 11, 4, 20, 199, 2...  "
      ]
     },
     "execution_count": 161,
     "metadata": {},
     "output_type": "execute_result"
    }
   ],
   "source": [
    "df_v_final.head()"
   ]
  },
  {
   "cell_type": "code",
   "execution_count": 162,
   "metadata": {},
   "outputs": [
    {
     "name": "stdout",
     "output_type": "stream",
     "text": [
      "1933\n"
     ]
    }
   ],
   "source": [
    "#save preprocessed training data frame\n",
    "df_final.to_pickle(\"train_df_final.pkl\")\n",
    "print( len(df_final) )"
   ]
  },
  {
   "cell_type": "code",
   "execution_count": 163,
   "metadata": {},
   "outputs": [
    {
     "name": "stdout",
     "output_type": "stream",
     "text": [
      "207\n"
     ]
    }
   ],
   "source": [
    "#save preprocessed test data frame\n",
    "df_v_final.to_pickle(\"test_df_v_final.pkl\")\n",
    "print( len(df_v_final) )"
   ]
  },
  {
   "cell_type": "markdown",
   "metadata": {},
   "source": [
    "## Select the correct images"
   ]
  },
  {
   "cell_type": "code",
   "execution_count": 164,
   "metadata": {},
   "outputs": [],
   "source": [
    "def readData(name):\n",
    "    data = np.load(name)\n",
    "    return data"
   ]
  },
  {
   "cell_type": "code",
   "execution_count": 165,
   "metadata": {},
   "outputs": [],
   "source": [
    "features_Read = readData('features_images.npy')"
   ]
  },
  {
   "cell_type": "code",
   "execution_count": 166,
   "metadata": {},
   "outputs": [
    {
     "name": "stdout",
     "output_type": "stream",
     "text": [
      "2023\n",
      "225\n"
     ]
    }
   ],
   "source": [
    "cant_Train = int(  len(features_Read)*percent_Train )\n",
    "cant_Test  = len(features_Read)-cant_Train\n",
    "print(cant_Train)\n",
    "print(cant_Test)"
   ]
  },
  {
   "cell_type": "code",
   "execution_count": 167,
   "metadata": {},
   "outputs": [
    {
     "name": "stdout",
     "output_type": "stream",
     "text": [
      "2023\n",
      "225\n"
     ]
    }
   ],
   "source": [
    "features_Train = features_Read[0:cant_Train]\n",
    "features_Test = features_Read[cant_Train:]\n",
    "print(len(features_Train))\n",
    "print(len(features_Test))"
   ]
  },
  {
   "cell_type": "code",
   "execution_count": 168,
   "metadata": {},
   "outputs": [],
   "source": [
    "#Take input as preprocssed images (features) and select valid rows based on above selection during training\n",
    "features = np.array(features_Train)\n",
    "features = features[valid_rows1,]\n",
    "features = features[valid_rows2,]"
   ]
  },
  {
   "cell_type": "code",
   "execution_count": 169,
   "metadata": {},
   "outputs": [
    {
     "name": "stdout",
     "output_type": "stream",
     "text": [
      "1933\n"
     ]
    }
   ],
   "source": [
    "print(len(features))"
   ]
  },
  {
   "cell_type": "code",
   "execution_count": 170,
   "metadata": {},
   "outputs": [],
   "source": [
    "pickle.dump(features, open('image_feature_train.pkl','wb'))"
   ]
  },
  {
   "cell_type": "code",
   "execution_count": 171,
   "metadata": {},
   "outputs": [],
   "source": [
    "#Take input as preprocssed images (features) and select valid rows based on above selection during testing\n",
    "features = np.array(features_Test)\n",
    "features = features[valid_rows3,]\n",
    "features = features[valid_rows4,]"
   ]
  },
  {
   "cell_type": "code",
   "execution_count": 172,
   "metadata": {},
   "outputs": [
    {
     "name": "stdout",
     "output_type": "stream",
     "text": [
      "207\n"
     ]
    }
   ],
   "source": [
    "print(len(features))"
   ]
  },
  {
   "cell_type": "code",
   "execution_count": 173,
   "metadata": {},
   "outputs": [],
   "source": [
    "pickle.dump(features, open('image_feature_test.pkl','wb'))"
   ]
  },
  {
   "cell_type": "code",
   "execution_count": null,
   "metadata": {},
   "outputs": [],
   "source": []
  }
 ],
 "metadata": {
  "kernelspec": {
   "display_name": "Python 3",
   "language": "python",
   "name": "python3"
  },
  "language_info": {
   "codemirror_mode": {
    "name": "ipython",
    "version": 3
   },
   "file_extension": ".py",
   "mimetype": "text/x-python",
   "name": "python",
   "nbconvert_exporter": "python",
   "pygments_lexer": "ipython3",
   "version": "3.6.7"
  }
 },
 "nbformat": 4,
 "nbformat_minor": 2
}
